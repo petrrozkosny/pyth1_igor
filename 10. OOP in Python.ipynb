{
 "cells": [
  {
   "cell_type": "markdown",
   "id": "915a74c8",
   "metadata": {},
   "source": [
    "# Object-Oriented Programming (OOP) in Python\n",
    "\n",
    "Object-oriented programming (OOP) is a way to organize code to resemble\n",
    "the real world – objects have properties (data) and behaviors (methods).\n",
    "In Python, we can create our own objects using **classes**."
   ]
  },
  {
   "cell_type": "markdown",
   "id": "bce6bb84",
   "metadata": {},
   "source": [
    "## Glossary of Terms\n",
    "| Term | Description | Example |\n",
    "|--------|--------|---------|\n",
    "| class | Template for creating objects | `class City:` |\n",
    "| instance | Specific object created from a class | `prague = City()` |\n",
    "| attribute | Data stored in an object | `prague.name = 'Prague'` |\n",
    "| method | Function that belongs to an object | `def greet(self):` |\n",
    "| `self` | Reference to the specific object (instance) | `self.name` |"
   ]
  },
  {
   "cell_type": "markdown",
   "id": "4ca4af01",
   "metadata": {},
   "source": [
    "## Creating a Simple Class"
   ]
  },
  {
   "cell_type": "code",
   "execution_count": null,
   "id": "5ccd4afb",
   "metadata": {},
   "outputs": [],
   "source": [
    "class City:\n",
    "    pass\n",
    "\n",
    "prague = City()\n",
    "print(type(prague))"
   ]
  },
  {
   "cell_type": "markdown",
   "id": "7e1e67e6",
   "metadata": {},
   "source": [
    "## Adding Attributes to an Object"
   ]
  },
  {
   "cell_type": "code",
   "execution_count": null,
   "id": "e62d3aa6",
   "metadata": {},
   "outputs": [],
   "source": [
    "prague.name = 'Prague'\n",
    "prague.population = 1300000\n",
    "print(prague.name)\n",
    "print(prague.population)"
   ]
  },
  {
   "cell_type": "markdown",
   "id": "f34bfd17",
   "metadata": {},
   "source": [
    "## Adding a Method to the Class"
   ]
  },
  {
   "cell_type": "code",
   "execution_count": null,
   "id": "e11a670c",
   "metadata": {},
   "outputs": [],
   "source": [
    "class City:\n",
    "    def greet(self):\n",
    "        print('Welcome to the city!')\n",
    "\n",
    "brno = City()\n",
    "brno.greet()"
   ]
  },
  {
   "cell_type": "markdown",
   "id": "6b718f1f",
   "metadata": {},
   "source": [
    "## What is Polymorphism?\n",
    "Polymorphism means that **different objects** can have a method **with the same name**, but **behave differently**.\n",
    "This allows us to write universal code that works with different types of objects."
   ]
  },
  {
   "cell_type": "code",
   "execution_count": null,
   "id": "f942c4a5",
   "metadata": {},
   "outputs": [],
   "source": [
    "class City:\n",
    "    def greet(self):\n",
    "        print('Welcome to the city.')\n",
    "\n",
    "class CityWithDetails:\n",
    "    def greet(self):\n",
    "        print('Welcome to the city of Liberec!')\n",
    "\n",
    "c1 = City()\n",
    "c2 = CityWithDetails()\n",
    "\n",
    "for c in [c1, c2]:\n",
    "    c.greet()"
   ]
  },
  {
   "cell_type": "markdown",
   "id": "5cb30e50",
   "metadata": {},
   "source": [
    "## What is Inheritance?\n",
    "Inheritance means that one class **takes on the properties and behaviors** of another class.\n",
    "For example, a city can \"inherit\" information about the region it is located in."
   ]
  },
  {
   "cell_type": "code",
   "execution_count": null,
   "id": "5426d94e",
   "metadata": {},
   "outputs": [],
   "source": [
    "class Region:\n",
    "    def print_country(self):\n",
    "        print('The city is located in the Czech Republic')\n",
    "\n",
    "class City(Region):\n",
    "    def print_city(self):\n",
    "        print('This is the city of Prague')\n",
    "\n",
    "prague = City()\n",
    "prague.print_country()\n",
    "prague.print_city()"
   ]
  },
  {
   "cell_type": "code",
   "execution_count": null,
   "id": "31616a61",
   "metadata": {},
   "outputs": [],
   "source": [
    "class City:\n",
    "    def greet(self):\n",
    "        print('Welcome to the city.')\n",
    "\n",
    "class CityWithDetails:\n",
    "    def __init__(self, name):\n",
    "        self.name = name\n",
    "\n",
    "    def greet(self):\n",
    "        print(f'Welcome to the city of {self.name}!')\n",
    "\n",
    "c1 = City()\n",
    "c2 = CityWithDetails('Liberec')\n",
    "\n",
    "for c in [c1, c2]:\n",
    "    c.greet()"
   ]
  },
  {
   "cell_type": "markdown",
   "id": "4d73c167",
   "metadata": {},
   "source": [
    "## Simple Inheritance"
   ]
  },
  {
   "cell_type": "code",
   "execution_count": null,
   "id": "2b5ca206",
   "metadata": {},
   "outputs": [],
   "source": [
    "class Region:\n",
    "    def __init__(self):\n",
    "        self.country = 'Czech Republic'\n",
    "\n",
    "class City(Region):\n",
    "    def print_country(self):\n",
    "        print(f'The city is located in {self.country}')\n",
    "\n",
    "prague = City()\n",
    "prague.print_country()"
   ]
  },
  {
   "cell_type": "markdown",
   "id": "c8c21bfc",
   "metadata": {},
   "source": [
    "## Summary\n",
    "- A class is a template used to create objects\n",
    "- An object (instance) can have its own data (attributes) and functions (methods)\n",
    "- Through inheritance, a class can be based on another class\n",
    "- The same method can have different behaviors – this is the basis of polymorphism\n",
    "- In this notebook, we didn't use `__init__`, we set attributes manually"
   ]
  }
 ],
 "metadata": {
  "language_info": {
   "name": "python"
  }
 },
 "nbformat": 4,
 "nbformat_minor": 5
}